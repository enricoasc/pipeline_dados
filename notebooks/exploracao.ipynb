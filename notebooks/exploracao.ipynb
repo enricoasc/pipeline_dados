{
 "cells": [
  {
   "cell_type": "markdown",
   "metadata": {},
   "source": [
    " ## Lendo dados"
   ]
  },
  {
   "cell_type": "code",
   "execution_count": 2,
   "metadata": {},
   "outputs": [],
   "source": [
    "path_json = '../data_raw/dados_empresaA.json'\n",
    "import json "
   ]
  },
  {
   "cell_type": "code",
   "execution_count": 3,
   "metadata": {},
   "outputs": [],
   "source": [
    "with open(path_json, 'r') as file:\n",
    "    # dados = file.readline()\n",
    "    dados_json = json.load(file)"
   ]
  },
  {
   "cell_type": "code",
   "execution_count": 4,
   "metadata": {},
   "outputs": [],
   "source": [
    "# dados_json[1]\n",
    "# type(dados_json)\n",
    "# type(dados_json[0])"
   ]
  },
  {
   "cell_type": "code",
   "execution_count": 5,
   "metadata": {},
   "outputs": [],
   "source": [
    "path_csv = '../data_raw/dados_empresaB.csv'\n",
    "import csv"
   ]
  },
  {
   "cell_type": "code",
   "execution_count": 6,
   "metadata": {},
   "outputs": [],
   "source": [
    "with open(path_csv, 'r') as file :\n",
    "    # print(file.readlines())\n",
    "    # dados_csv = file.readlines()\n",
    "    spamreader = csv.reader(file, delimiter=',')\n",
    "    dados_csv = []\n",
    "    for row in spamreader:\n",
    "        # print(type(row))\n",
    "        dados_csv.append(row)"
   ]
  },
  {
   "cell_type": "code",
   "execution_count": 7,
   "metadata": {},
   "outputs": [],
   "source": [
    "# type(dados_csv[0])\n",
    "# type(dados_csv)\n",
    "# dados_json[4]['Quantidade em Estoque']\n"
   ]
  },
  {
   "cell_type": "code",
   "execution_count": 8,
   "metadata": {},
   "outputs": [],
   "source": [
    "# refazendo para retornar um dicionario e ser mais fácil de manipular\n",
    "with open(path_csv, 'r') as file :\n",
    "    spamreader = csv.DictReader(file,delimiter=',')\n",
    "    dados_csv = []\n",
    "    for row in spamreader:\n",
    "        dados_csv.append(row)"
   ]
  },
  {
   "cell_type": "code",
   "execution_count": 9,
   "metadata": {},
   "outputs": [],
   "source": [
    "# type(dados_csv[0]['Quantidade em Estoque'])\n",
    "# type(dados_csv[0])\n",
    "# dados_csv[0]\n",
    "# dados_json[0]\n"
   ]
  },
  {
   "cell_type": "code",
   "execution_count": 21,
   "metadata": {},
   "outputs": [
    {
     "data": {
      "text/plain": [
       "['Nome do Produto',\n",
       " 'Categoria do Produto',\n",
       " 'Preço do Produto (R$)',\n",
       " 'Quantidade em Estoque',\n",
       " 'Filial']"
      ]
     },
     "execution_count": 21,
     "metadata": {},
     "output_type": "execute_result"
    }
   ],
   "source": [
    "nome_colunas_json =  list(dados_json[0].keys())\n",
    "len(nome_colunas_json)\n",
    "nome_colunas_csv = list(dados_csv[0].keys())\n",
    "len(nome_colunas_csv)\n",
    "# nome_colunas_csv\n",
    "nome_colunas_json"
   ]
  },
  {
   "cell_type": "code",
   "execution_count": 18,
   "metadata": {},
   "outputs": [],
   "source": [
    "# REFAZ MAPEAMENTO DO CSV \n",
    "key_mapping = {'Nome do Item': 'Nome do Produto',\n",
    "               'Classificação do Produto' : 'Categoria do Produto',\n",
    "               'Valor em Reais (R$)' : 'Preço do Produto (R$)',\n",
    "               'Quantidade em Estoque' : 'Quantidade em Estoque',\n",
    "               'Nome da Loja' : 'Filial',\n",
    "               'Data da Venda' : 'Data da Venda' }\n",
    "\n",
    "#  CRIA LISTA PARA RECEBER DICIONARIOS COM AS COLUNAS NOVAS \n",
    "new_dados_csv = []\n",
    "\n",
    "for old_dict in dados_csv:\n",
    "    dict_temp = {}\n",
    "    for old_key, value in old_dict.items():\n",
    "        dict_temp[key_mapping[old_key]] = value\n",
    "    new_dados_csv.append(dict_temp)\n"
   ]
  },
  {
   "cell_type": "code",
   "execution_count": 27,
   "metadata": {},
   "outputs": [
    {
     "data": {
      "text/plain": [
       "4446"
      ]
     },
     "execution_count": 27,
     "metadata": {},
     "output_type": "execute_result"
    }
   ],
   "source": [
    "len(dados_json)+len(new_dados_csv)"
   ]
  },
  {
   "cell_type": "code",
   "execution_count": 34,
   "metadata": {},
   "outputs": [
    {
     "data": {
      "text/plain": [
       "4446"
      ]
     },
     "execution_count": 34,
     "metadata": {},
     "output_type": "execute_result"
    }
   ],
   "source": [
    "# COMBINA LISTAS EM UMA LISTA \n",
    "combined_list = []\n",
    "combined_list.extend(dados_json)\n",
    "combined_list.extend(new_dados_csv)\n",
    "len(combined_list)"
   ]
  },
  {
   "cell_type": "code",
   "execution_count": 53,
   "metadata": {},
   "outputs": [
    {
     "data": {
      "text/plain": [
       "{'Nome do Produto': 'Lápis de sobrancelha',\n",
       " 'Categoria do Produto': 'Eletrodomésticos',\n",
       " 'Preço do Produto (R$)': 85.47,\n",
       " 'Quantidade em Estoque': 78,\n",
       " 'Filial': 'Filial 8'}"
      ]
     },
     "execution_count": 53,
     "metadata": {},
     "output_type": "execute_result"
    }
   ],
   "source": [
    "# dados_json[0]\n",
    "# new_dados_csv[-1]\n",
    "combined_list[1]"
   ]
  },
  {
   "cell_type": "code",
   "execution_count": 56,
   "metadata": {},
   "outputs": [
    {
     "data": {
      "text/plain": [
       "['Nome do Produto',\n",
       " 'Categoria do Produto',\n",
       " 'Preço do Produto (R$)',\n",
       " 'Quantidade em Estoque',\n",
       " 'Filial',\n",
       " 'Data da Venda']"
      ]
     },
     "execution_count": 56,
     "metadata": {},
     "output_type": "execute_result"
    }
   ],
   "source": [
    "nome_colunas = list(combined_list[-1].keys())\n",
    "nome_colunas"
   ]
  },
  {
   "cell_type": "code",
   "execution_count": null,
   "metadata": {},
   "outputs": [],
   "source": [
    "# path_dados_combinados = '../data_processed/dados_combinados.csv'\n",
    "# nome_colunas = list(combined_list[0].keys())\n",
    "\n",
    "# with open(path_dados_combinados, 'w') as file:\n",
    "#     writer = csv.DictWriter(file, fieldnames=nome_colunas)\n",
    "#     writer.writeheader()\n",
    "\n",
    "#     for row in combined_list:\n",
    "#         writer.writerow(row)\n",
    "\n",
    "# ESTRUTURA DE LOUD PARA O FORMATO DE DADOS ESTRUTURADOS EM DICIONARIOS "
   ]
  },
  {
   "cell_type": "code",
   "execution_count": 61,
   "metadata": {},
   "outputs": [],
   "source": [
    "dados_combinados_tabela = [nome_colunas ]\n",
    "\n",
    "for row in combined_list:\n",
    "    linha = []\n",
    "    for coluna in nome_colunas:\n",
    "        linha.append(row.get(coluna, 'indisponivel'))\n",
    "    dados_combinados_tabela.append(linha)\n",
    "\n"
   ]
  },
  {
   "cell_type": "code",
   "execution_count": 70,
   "metadata": {},
   "outputs": [],
   "source": [
    "# dados_combinados_tabela[1]\n",
    "\n",
    "path_dados_combinados = '../data_processed/dados_combinados.csv'\n",
    "\n",
    "with open(path_dados_combinados, 'w') as file:\n",
    "    writer = csv.writer(file)\n",
    "    writer.writerows(dados_combinados_tabela) ##  writerows - funciona com uma Lista de Listas\n",
    "    "
   ]
  }
 ],
 "metadata": {
  "kernelspec": {
   "display_name": "venv",
   "language": "python",
   "name": "python3"
  },
  "language_info": {
   "codemirror_mode": {
    "name": "ipython",
    "version": 3
   },
   "file_extension": ".py",
   "mimetype": "text/x-python",
   "name": "python",
   "nbconvert_exporter": "python",
   "pygments_lexer": "ipython3",
   "version": "3.11.9"
  }
 },
 "nbformat": 4,
 "nbformat_minor": 2
}
